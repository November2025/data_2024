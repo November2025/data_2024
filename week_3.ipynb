{
 "cells": [
  {
   "cell_type": "markdown",
   "metadata": {},
   "source": [
    "# Markdown in Jupyter Notebooks\n",
    "\n",
    "**Objective:** By the end of this exercise, you should be able to use Markdown to create organized, styled content in Jupyter Notebooks.\n",
    "\n",
    "[documentation](https://www.markdownguide.org/cheat-sheet/)\n",
    "\n",
    "[more documentation](https://www.markdownguide.org/extended-syntax/)"
   ]
  },
  {
   "cell_type": "markdown",
   "metadata": {},
   "source": [
    "**Instructions**\n",
    "\n",
    "1. Use Markdown headings to structure content.\n",
    "Create cells with the following:\n",
    "  - A title using **Heading 1**\n",
    "  - A section heading with **Heading 2**\n",
    "  - A subsection with **Heading 3**\n",
    "  - A subsection with **Heading 4**\n",
    "  - A subsection with **Heading 5**\n",
    "  - A subsection with **Heading 6**"
   ]
  },
  {
   "cell_type": "markdown",
   "metadata": {},
   "source": [
    "# Title (Heading 1)\n",
    "\n",
    "This is the main title of the content, typically used for the primary topic of your notebook or documentation.\n",
    "\n",
    "## Section Heading (Heading 2)\n",
    "\n",
    "This is the second level of heading. Section headings help organize your content into major subsections.\n",
    "\n",
    "### Subsection (Heading 3)\n",
    "\n",
    "Subsections break down the content even further, providing more detailed explanations or focusing on specific aspects of the section.\n",
    "\n",
    "#### Sub-subsection (Heading 4)\n",
    "\n",
    "Heading 4 allows for deeper subdivisions of the content. This level is often used for fine-grained details or explanations of concepts within the subsection.\n",
    "\n",
    "##### Sub-sub-subsection (Heading 5)\n",
    "\n",
    "Heading 5 is used for even more granular divisions of the content. It can be used for further breaking down content that has already been divided into multiple subsections.\n",
    "\n",
    "###### Sub-sub-sub-subsection (Heading 6)\n",
    "\n",
    "This is the lowest level of heading in Markdown. It's typically used for the smallest divisions of content, such as bullet points, detailed examples, or references to specific elements within a concept.\n"
   ]
  },
  {
   "cell_type": "code",
   "execution_count": 1,
   "metadata": {},
   "outputs": [
    {
     "name": "stdout",
     "output_type": "stream",
     "text": [
      "# Main Title (Heading 1)\n",
      "This is the main section of the content. You can add a brief overview here to introduce the topic.\n",
      "\n",
      "## Section 1: Overview (Heading 2)\n",
      "This section will give a more detailed explanation of the subject matter.\n",
      "\n",
      "### Subsection 1.1: Introduction (Heading 3)\n",
      "Here, we introduce the core concept or idea that the section will cover.\n",
      "\n",
      "#### Subsection 1.1.1: Key Points (Heading 4)\n",
      "This subsection highlights the important aspects or takeaways from the introduction.\n",
      "\n",
      "##### Subsection 1.1.1.1: Details of Key Points (Heading 5)\n",
      "Here, we dive even deeper into the specifics of the key points introduced earlier.\n",
      "\n",
      "###### Subsection 1.1.1.1.1: Final Thoughts (Heading 6)\n",
      "A concluding point or summary of the details from the previous section.\n",
      "\n",
      "## Section 2: Deep Dive (Heading 2)\n",
      "A more comprehensive explanation or a breakdown of complex details related to the topic.\n",
      "\n",
      "### Subsection 2.1: Advanced Topics (Heading 3)\n",
      "Discussing more advanced or specialized content related to the main subject.\n",
      "\n",
      "#### Subsection 2.1.1: Examples and Case Studies (Heading 4)\n",
      "Provide real-world examples or case studies related to the advanced topics.\n",
      "\n",
      "##### Subsection 2.1.1.1: Case Study A (Heading 5)\n",
      "This subsection details a specific case study, examining it from different angles.\n",
      "\n",
      "###### Subsection 2.1.1.1.1: Lessons Learned (Heading 6)\n",
      "Summarize the takeaways or insights from the case study.\n",
      "\n"
     ]
    }
   ],
   "source": [
    "# heading and titles\n",
    "headings = [\n",
    "    (\"# Main Title (Heading 1)\", \"This is the main section of the content. You can add a brief overview here to introduce the topic.\"),\n",
    "    (\"## Section 1: Overview (Heading 2)\", \"This section will give a more detailed explanation of the subject matter.\"),\n",
    "    (\"### Subsection 1.1: Introduction (Heading 3)\", \"Here, we introduce the core concept or idea that the section will cover.\"),\n",
    "    (\"#### Subsection 1.1.1: Key Points (Heading 4)\", \"This subsection highlights the important aspects or takeaways from the introduction.\"),\n",
    "    (\"##### Subsection 1.1.1.1: Details of Key Points (Heading 5)\", \"Here, we dive even deeper into the specifics of the key points introduced earlier.\"),\n",
    "    (\"###### Subsection 1.1.1.1.1: Final Thoughts (Heading 6)\", \"A concluding point or summary of the details from the previous section.\"),\n",
    "    (\"## Section 2: Deep Dive (Heading 2)\", \"A more comprehensive explanation or a breakdown of complex details related to the topic.\"),\n",
    "    (\"### Subsection 2.1: Advanced Topics (Heading 3)\", \"Discussing more advanced or specialized content related to the main subject.\"),\n",
    "    (\"#### Subsection 2.1.1: Examples and Case Studies (Heading 4)\", \"Provide real-world examples or case studies related to the advanced topics.\"),\n",
    "    (\"##### Subsection 2.1.1.1: Case Study A (Heading 5)\", \"This subsection details a specific case study, examining it from different angles.\"),\n",
    "    (\"###### Subsection 2.1.1.1.1: Lessons Learned (Heading 6)\", \"Summarize the takeaways or insights from the case study.\")\n",
    "]\n",
    "\n",
    "# function to create \n",
    "def generate_markdown_simple():\n",
    "    for heading, content in headings:\n",
    "        print(heading)\n",
    "        print(content)\n",
    "        print() \n",
    "\n",
    "# call function to generate markdown\n",
    "generate_markdown_simple()\n"
   ]
  },
  {
   "cell_type": "markdown",
   "metadata": {
    "id": "6SPk_f2fHR14"
   },
   "source": [
    "--**This is bold text**, and *this is italic text*.\n",
    "\n",
    "> This is a blockquote example.\n",
    "- \n",
    "\n",
    "Your mark down here \n",
    "\n",
    "---"
   ]
  },
  {
   "cell_type": "markdown",
   "metadata": {
    "id": "t_HeS5bpB8u7"
   },
   "source": [
    "2. Practice bold and italic text:\n",
    "  - Add a cell with the following text: “This is bold text, and this is italic text.”\n",
    "  - Create a blockquote with the text: “This is a blockquote example.”"
   ]
  },
  {
   "cell_type": "markdown",
   "metadata": {
    "id": "jy1cptsFHSuX"
   },
   "source": [
    "-**This is bold text**, and *this is italic text*.\n",
    "\n",
    "> This is a blockquote example.\n",
    "-- \n",
    "\n",
    "\n",
    "\n",
    "---"
   ]
  },
  {
   "cell_type": "markdown",
   "metadata": {
    "id": "6AB2ox0gHF34"
   },
   "source": [
    "3. Create an ordered list (numbers) and an unordered list (bullets):\n",
    "\n",
    "- **Ordered List:**\n",
    "  1. First item\n",
    "  2. Second item\n",
    "  3. Third item\n",
    "\n",
    "- **Unordered List:**\n",
    "  - First item\n",
    "  - Second item\n",
    "  - Third item"
   ]
  },
  {
   "cell_type": "markdown",
   "metadata": {
    "id": "dNllU7rkHF70"
   },
   "source": [
    "4. Create an inline code example with backticks, like this:\n",
    "\n",
    "`print(\"Hello, world!\")`\n",
    "\n",
    "Then, create a multi-line code block:\n",
    "\n",
    "```python\n",
    "def greet(name):\n",
    "    return f\"Hello, {name}!\"\n",
    "greet(\"World\")\n",
    "```"
   ]
  },
  {
   "cell_type": "markdown",
   "metadata": {},
   "source": [
    "```python\n",
    "def greet(name):\n",
    "    return f\"Hello, {name}!\"\n",
    "    \n",
    "greet(\"World\")\n"
   ]
  },
  {
   "cell_type": "markdown",
   "metadata": {
    "id": "cXKz2W9YHGCn"
   },
   "source": [
    "5. Hyperlinks\n",
    "\n",
    "  Add a link to a website:\n",
    "  [Google](https://www.google.com)\n",
    "\n",
    "  Images\n",
    "\n",
    "  Upload an image (or use an online URL) and add it to the notebook:\n",
    "\n",
    "  <h3>Python Logo</h3>\n",
    "  <img src=\"https://cdn.iconscout.com/icon/free/png-512/free-python-logo-icon-download-in-svg-png-gif-file-formats--programming-language-logos-icons-1720083.png?f=webp&w=256\" alt=\"python logo\" width=\"80\"/>"
   ]
  },
  {
   "cell_type": "markdown",
   "metadata": {},
   "source": [
    "### Hyperlink to Google:\n",
    "Click here to visit [Google](https://www.google.com).\n",
    "\n",
    "### Image from URL:\n",
    "![Jupyter Logo](https://jupyter.org/assets/main-logo.svg)\n",
    "\n",
    "### Image from Local File:\n",
    "![Local Image](path_to_your_image.png)\n"
   ]
  },
  {
   "cell_type": "markdown",
   "metadata": {
    "id": "HITMIz3cHGJE"
   },
   "source": [
    "6. Mathematics with LaTeX\n",
    "\n",
    "  ### Mathematics with LaTeX\n",
    "\n",
    "  Write a mathematical equation in LaTeX, such as the quadratic formula:\n",
    "\n",
    "  $$\n",
    "  x = \\frac{-b \\pm \\sqrt{b^2 - 4ac}}{2a}\n",
    "  $$"
   ]
  },
  {
   "cell_type": "markdown",
   "metadata": {},
   "source": [
    "$$x = \\frac{-b \\pm \\sqrt{b^2 - 4ac}}{2a}$$\n"
   ]
  },
  {
   "cell_type": "markdown",
   "metadata": {},
   "source": [
    "7. Markdown table \n",
    "\n",
    "- Make a mark down table that is 5 columns and 3 rows. \n",
    "- Make the first column centered\n",
    "- The next 3 should be centered \n",
    "- The final align to the right "
   ]
  },
  {
   "cell_type": "markdown",
   "metadata": {},
   "source": [
    "| Column 1        | Column 2        | Column 3        | Column 4        | Column 5        |\n",
    "|:----------------:|:---------------:|:---------------:|:---------------:|----------------:|\n",
    "| Row 1, Cell 1   | Row 1, Cell 2   | Row 1, Cell 3   | Row 1, Cell 4   | Row 1, Cell 5   |\n",
    "| Row 2, Cell 1   | Row 2, Cell 2   | Row 2, Cell 3   | Row 2, Cell 4   | Row 2, Cell 5   |\n",
    "| Row 3, Cell 1   | Row 3, Cell 2   | Row 3, Cell 3   | Row 3, Cell 4   | Row 3, Cell 5   |\n"
   ]
  },
  {
   "cell_type": "markdown",
   "metadata": {},
   "source": [
    "8. Other things \n",
    "\n",
    "Write a block of text and use the following:\n",
    "- Make a word Bold \n",
    "- Make a different work Italic \n",
    "- Make a different work Bold and Italic\n",
    "- Strikethrough a word \n",
    "- Make a table with bold column names "
   ]
  },
  {
   "cell_type": "markdown",
   "metadata": {},
   "source": [
    "This is an example of **bold text**. You can also have *italic text* for emphasis. Additionally, a word can be **_both bold and italic_** to make it stand out even more. \n",
    "\n",
    "Sometimes you might want to **strikethrough** a word, for example: ~~this word~~.\n",
    "\n",
    "\n",
    "\n"
   ]
  },
  {
   "cell_type": "markdown",
   "metadata": {},
   "source": [
    "| **Column 1**   | **Column 2**   | **Column 3**   |\n",
    "|----------------|----------------|----------------|\n",
    "| Row 1, Cell 1 | Row 1, Cell 2 | Row 1, Cell 3 |\n",
    "| Row 2, Cell 1 | Row 2, Cell 2 | Row 2, Cell 3 |\n",
    "| Row 3, Cell 1 | Row 3, Cell 2 | Row 3, Cell 3 |\n"
   ]
  },
  {
   "cell_type": "markdown",
   "metadata": {
    "id": "ZjQYyEavLEkm"
   },
   "source": [
    "# Code Challange!\n",
    "\n",
    "Here's a simple Python script that creates and saves a file called sample.txt with some example text."
   ]
  },
  {
   "cell_type": "code",
   "execution_count": 2,
   "metadata": {
    "colab": {
     "base_uri": "https://localhost:8080/"
    },
    "id": "Tf3nwqA-JsZw",
    "outputId": "732b76dc-eab3-4185-ebf3-7366bc025903"
   },
   "outputs": [
    {
     "name": "stdout",
     "output_type": "stream",
     "text": [
      "sample.txt has been created and saved.\n"
     ]
    }
   ],
   "source": [
    "with open(\"sample.txt\", \"w\") as file:\n",
    "    file.write(\"This is a sample text file.\\n\")\n",
    "    file.write(\"It contains multiple lines of text.\\n\")\n",
    "    file.write(\"Python makes file handling easy!\")\n",
    "\n",
    "print(\"sample.txt has been created and saved.\")"
   ]
  },
  {
   "cell_type": "code",
   "execution_count": 3,
   "metadata": {
    "colab": {
     "base_uri": "https://localhost:8080/"
    },
    "id": "UEi6YgWgMb5A",
    "outputId": "30e99a91-40b6-4a5f-8e96-2756632e72ee"
   },
   "outputs": [
    {
     "name": "stdout",
     "output_type": "stream",
     "text": [
      "This is a sample text file.\n",
      "It contains multiple lines of text.\n",
      "Python makes file handling easy!\n"
     ]
    }
   ],
   "source": [
    "with open(\"sample.txt\", \"r\") as file:\n",
    "    contents = file.read()\n",
    "\n",
    "print(contents)"
   ]
  },
  {
   "cell_type": "markdown",
   "metadata": {
    "id": "LTbhz8ndLT8Y"
   },
   "source": [
    "Using the above as an example write a program that creates a little bio about yourself.\n",
    "\n",
    "- Use f strings to use your variables\n",
    "- Make the file save as what you entered in the name field\n",
    "- Read the file in python after you write it"
   ]
  },
  {
   "cell_type": "code",
   "execution_count": 4,
   "metadata": {
    "colab": {
     "base_uri": "https://localhost:8080/"
    },
    "id": "bbzPphDoKgqE",
    "outputId": "a87a332e-150d-4a8f-e6aa-c673addcbc91"
   },
   "outputs": [],
   "source": [
    "name = input(\"Enter your name: \")\n",
    "hobby = input(\"Enter your favorite hobby: \")\n",
    "animal = input(\"Enter your favorite animal: \")\n",
    "color = input(\"Enter your favorite color: \")"
   ]
  },
  {
   "cell_type": "code",
   "execution_count": 5,
   "metadata": {},
   "outputs": [
    {
     "name": "stdout",
     "output_type": "stream",
     "text": [
      "test\n"
     ]
    }
   ],
   "source": [
    "print(\"test\")"
   ]
  },
  {
   "cell_type": "code",
   "execution_count": 6,
   "metadata": {},
   "outputs": [
    {
     "name": "stdout",
     "output_type": "stream",
     "text": [
      "amanda_bio.txt has been created and saved.\n",
      "\n",
      "File Contents:\n",
      "Name: amanda\n",
      "Age: 40\n",
      "Location: kentucky\n",
      "Hobby: coding\n",
      "\n"
     ]
    }
   ],
   "source": []
  }
 ],
 "metadata": {
  "colab": {
   "provenance": []
  },
  "kernelspec": {
   "display_name": "Python 3",
   "name": "python3"
  },
  "language_info": {
   "codemirror_mode": {
    "name": "ipython",
    "version": 3
   },
   "file_extension": ".py",
   "mimetype": "text/x-python",
   "name": "python",
   "nbconvert_exporter": "python",
   "pygments_lexer": "ipython3",
   "version": "3.13.0"
  }
 },
 "nbformat": 4,
 "nbformat_minor": 0
}
